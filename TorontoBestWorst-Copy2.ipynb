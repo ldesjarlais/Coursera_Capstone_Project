{
 "cells": [
  {
   "cell_type": "markdown",
   "metadata": {},
   "source": [
    "# Toronto’s Best and Worst Neighborhood for Italian cuisine"
   ]
  },
  {
   "cell_type": "markdown",
   "metadata": {},
   "source": [
    "## Introduction\n",
    "\n",
    "#### Toronto is a major city in the province of Ontario in eastern Canada. The city has a population of over 2.7 million people. “Toronto is an international centre of business, finance, arts, and culture, and is recognized as one of the most multicultural and cosmopolitan cities in the world”. Immigrants to Canada have most often chosen Toronto as home which is represented by the more than 200 distinct ethnic origins living in the city. Some members of this diverse population have segregated into pockets known as little Italy, Chinatown, Portugal village and Little India. If a neighborhood has an ethnic majority inhabiting it, then is this the best neighborhood to go for ethnic cuisine?\n",
    "\n",
    "Source: https://en.wikipedia.org/wiki/Toronto\n"
   ]
  },
  {
   "cell_type": "markdown",
   "metadata": {},
   "source": [
    "## Business Problem\n",
    "\n",
    "#### The objective of this investigation will be to identify the neighborhoods in Toronto that have the best Italian restaurants and determine if Little Italy is in that list. This will be useful information to the Toronto tourism board when advising tourists who are visiting Toronto. Secondly, the neighborhood with the least Italian restaurants will be noted as a recommendation for the best neighborhood to open an Italian restaurant. This will be used by the Toronto community agencies for small business development.\n"
   ]
  },
  {
   "cell_type": "markdown",
   "metadata": {},
   "source": [
    "## Data\n",
    "\n",
    "#### 1.\tUse the Wikipedia page for Toronto postal codes and combine with latitude and longitude data from the Week 3 assignment for transformation into the location of Toronto neighborhoods.\n",
    "#### Link: https://en.wikipedia.org/wiki/List_of_postal_codes_of_Canada:_M\n",
    "\n",
    "#### 2.\tUse the Foursquare location data for making a list of all the venues in each Toronto neighborhood.\n",
    "#### Link: Foursquare API\n",
    "\n",
    "#### 3.\tUse the latitude and longitude data to map the neighborhoods with Italian restaurants by Python’s Folium library.\n",
    "\n"
   ]
  }
 ],
 "metadata": {
  "kernelspec": {
   "display_name": "Python 3",
   "language": "python",
   "name": "python3"
  },
  "language_info": {
   "codemirror_mode": {
    "name": "ipython",
    "version": 3
   },
   "file_extension": ".py",
   "mimetype": "text/x-python",
   "name": "python",
   "nbconvert_exporter": "python",
   "pygments_lexer": "ipython3",
   "version": "3.6.4"
  }
 },
 "nbformat": 4,
 "nbformat_minor": 2
}
