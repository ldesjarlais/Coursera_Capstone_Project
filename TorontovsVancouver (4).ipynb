{
 "cells": [
  {
   "cell_type": "markdown",
   "metadata": {},
   "source": [
    "# Comparison of Two Canadian Cities\n"
   ]
  },
  {
   "cell_type": "markdown",
   "metadata": {},
   "source": [
    "\n",
    "## Introduction/Business Problem: \n",
    "#### Toronto and Vancouver are two major cities in Canada in which one is in the East, Toronto, and the other, Vancouver, is in the West. The result of this investigation will identify the similarities and differences between the two cities which will characterize the two cities. It will be interesting to compare these two cities because they are both on large bodies of water, have significant multi-cultural populations and have significant financial centers but Toronto is the major Atlantic Ocean hub and Vancouver is the major Pacific Ocean hub in Canada.\n",
    "\n",
    "#### The purpose of the study will help an individual or family who is thinking of moving to a major city in Canada to select a city to live in. Since Toronto is approximately 4400 km away from Vancouver, choosing one city over the other is a large financial commitment because they are so far apart. Let’s see if the results show that the two cities are perhaps more similar than one would think.\n"
   ]
  },
  {
   "cell_type": "code",
   "execution_count": null,
   "metadata": {},
   "outputs": [],
   "source": []
  }
 ],
 "metadata": {
  "kernelspec": {
   "display_name": "Python 3",
   "language": "python",
   "name": "python3"
  },
  "language_info": {
   "codemirror_mode": {
    "name": "ipython",
    "version": 3
   },
   "file_extension": ".py",
   "mimetype": "text/x-python",
   "name": "python",
   "nbconvert_exporter": "python",
   "pygments_lexer": "ipython3",
   "version": "3.6.4"
  }
 },
 "nbformat": 4,
 "nbformat_minor": 2
}
